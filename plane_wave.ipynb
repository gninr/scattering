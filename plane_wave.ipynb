{
 "cells": [
  {
   "attachments": {},
   "cell_type": "markdown",
   "id": "ea1ea3e4",
   "metadata": {},
   "source": [
    "# Validation of far field evaluation"
   ]
  },
  {
   "cell_type": "code",
   "execution_count": null,
   "id": "7c7d21d0",
   "metadata": {
    "scrolled": true
   },
   "outputs": [],
   "source": [
    "%env OMP_NUM_THREADS=1\n",
    "import firedrake as fd\n",
    "import numpy as np\n",
    "import matplotlib.pyplot as plt\n",
    "from scattering import solve, far_field, far_field_vol,\\\n",
    "    plot_mesh, plot_field, plot_far_field, plot_far_field_vol\n",
    "from mesh import generate_mesh"
   ]
  },
  {
   "cell_type": "code",
   "execution_count": null,
   "id": "d77879ff",
   "metadata": {},
   "outputs": [],
   "source": [
    "# sound speed\n",
    "c = 340\n",
    "# number of cells across PML\n",
    "N = 2"
   ]
  },
  {
   "attachments": {},
   "cell_type": "markdown",
   "id": "ae2c09d5",
   "metadata": {},
   "source": [
    "## Circle-shaped obstacle"
   ]
  },
  {
   "cell_type": "code",
   "execution_count": null,
   "id": "44d10528",
   "metadata": {},
   "outputs": [],
   "source": [
    "# shape of obstacle\n",
    "shape = \"circle\"\n",
    "# shift obstacle to break symmetry\n",
    "shift = (0.1, 0.1)\n",
    "# set up PML\n",
    "a0 = b0 = 2.0\n",
    "a1 = b1 = 2.25\n",
    "h0 = (a1 - a0) / N\n",
    "# set up cut-off function for far field\n",
    "R0 = 1.2\n",
    "R1 = 1.9\n",
    "if R0 is not None and R1 is not None:\n",
    "    annular = True\n",
    "else:\n",
    "    annular = False\n",
    "\n",
    "# generate mesh\n",
    "cached_mesh = False\n",
    "if cached_mesh:\n",
    "    mesh = fd.Mesh(shape + str(0) + \".msh\")\n",
    "else:\n",
    "    mesh = generate_mesh(a0, a1, b0, b1, shape, N, R0=R0, R1=R1, shift=shift)"
   ]
  },
  {
   "cell_type": "code",
   "execution_count": null,
   "id": "0d992073",
   "metadata": {},
   "outputs": [],
   "source": [
    "# visualize mesh\n",
    "plot_mesh(mesh)"
   ]
  },
  {
   "cell_type": "code",
   "execution_count": null,
   "id": "474835f3",
   "metadata": {},
   "outputs": [],
   "source": [
    "# wavenumber of incident wave\n",
    "k = 5\n",
    "# direction of incident wave\n",
    "d = fd.Constant([1., 0.])\n",
    "\n",
    "# Dirichlet boundary condition for sound-soft obstacle\n",
    "x = fd.SpatialCoordinate(mesh)\n",
    "kdx = k * fd.dot(d, x)\n",
    "inc = fd.as_vector((fd.cos(kdx), fd.sin(kdx)))\n",
    "g = -inc\n",
    "\n",
    "# compute approximate solution\n",
    "uh = solve(mesh, k, a0, a1, b0, b1, g, annular=annular)"
   ]
  },
  {
   "cell_type": "code",
   "execution_count": null,
   "id": "f87ce857",
   "metadata": {},
   "outputs": [],
   "source": [
    "# visualize scattered field\n",
    "plot_field(uh, a0, a1, b0, b1)"
   ]
  },
  {
   "cell_type": "code",
   "execution_count": null,
   "id": "291d5b57",
   "metadata": {
    "scrolled": true
   },
   "outputs": [],
   "source": [
    "# visualize total field\n",
    "u = fd.interpolate(uh + inc, uh.function_space())\n",
    "plot_field(u, a0, a1, b0, b1)"
   ]
  },
  {
   "cell_type": "code",
   "execution_count": null,
   "id": "4f5e2af2",
   "metadata": {},
   "outputs": [],
   "source": [
    "# plot far field pattern evaluated by boundary-based formula\n",
    "# use boundary of obstacle\n",
    "plot_far_field(k, uh)"
   ]
  },
  {
   "cell_type": "code",
   "execution_count": null,
   "id": "b60e30e4",
   "metadata": {},
   "outputs": [],
   "source": [
    "# plot far field pattern evaluated by boundary-based formula\n",
    "# use arbitrary closed surface enclosing obstacle\n",
    "plot_far_field(k, uh, boundary=4)"
   ]
  },
  {
   "cell_type": "code",
   "execution_count": null,
   "id": "406ba35c",
   "metadata": {},
   "outputs": [],
   "source": [
    "# plot far field pattern evaluated by volume-based formula\n",
    "plot_far_field_vol(k, uh, R0, R1)"
   ]
  },
  {
   "cell_type": "code",
   "execution_count": null,
   "id": "b4c7d267",
   "metadata": {},
   "outputs": [],
   "source": [
    "# verify reciprocity relation [1, Theorem 3.23]\n",
    "cached_mesh = False\n",
    "if cached_mesh:\n",
    "    mesh = fd.Mesh(shape + str(3) + \".msh\")\n",
    "else:\n",
    "    mesh = generate_mesh(a0, a1, b0, b1, shape, N, level=3, R0=R0, R1=R1)\n",
    "k = 5\n",
    "d = fd.Constant([1., 0.])\n",
    "x = fd.SpatialCoordinate(mesh)\n",
    "kdx = k * fd.dot(d, x)\n",
    "inc = fd.as_vector((fd.cos(kdx), fd.sin(kdx)))\n",
    "g = -inc\n",
    "u1 = solve(mesh, k, a0, a1, b0, b1, g, annular=annular)\n",
    "\n",
    "n = 20\n",
    "theta = 2 * np.pi / n * np.arange(n)\n",
    "ratio = []\n",
    "for t in list(theta):\n",
    "    x_hat = fd.Constant((np.cos(t), np.sin(t)))\n",
    "    u_inf1_re, u_inf1_im = far_field_vol(k, u1, x_hat, R0, R1)\n",
    "    \n",
    "    x = fd.SpatialCoordinate(mesh)\n",
    "    kdx = k * fd.dot(-x_hat, x)\n",
    "    inc = fd.as_vector((fd.cos(kdx), fd.sin(kdx)))\n",
    "    g = -inc\n",
    "    u2 = solve(mesh, k, a0, a1, b0, b1, g, annular=annular)\n",
    "    u_inf2_re, u_inf2_im = far_field_vol(k, u2, -d, R0, R1)\n",
    "\n",
    "    ratio.append((u_inf2_re / u_inf1_re, u_inf2_im / u_inf1_im))\n",
    "theta = np.append(theta, 0)\n",
    "ratio = np.array(ratio + [ratio[0]])\n",
    "\n",
    "fig, (ax1, ax2) = plt.subplots(1, 2, subplot_kw={'projection': 'polar'},\n",
    "                               constrained_layout=True)\n",
    "ax1.plot(theta, ratio[:, 0])\n",
    "ax1.set_title(\"Real part\")\n",
    "ax1.set_rlabel_position(90)\n",
    "ax1.grid(True)\n",
    "ax2.plot(theta, ratio[:, 1])\n",
    "ax2.set_title(\"Imaginary part\")\n",
    "ax2.set_rlabel_position(90)\n",
    "ax2.grid(True)\n",
    "fig.suptitle(\"Reciprocity relation\")"
   ]
  },
  {
   "cell_type": "code",
   "execution_count": null,
   "id": "9d9812a3",
   "metadata": {
    "scrolled": false
   },
   "outputs": [],
   "source": [
    "# verify translation property [1, (5.3)]\n",
    "a0 = b0 = 2.0\n",
    "a1 = b1 = 2.25\n",
    "h0 = (a1 - a0) / N\n",
    "R0 = 1.2\n",
    "R1 = 1.9\n",
    "\n",
    "shift0 = (0.1, 0.1)\n",
    "shift1 = (0.1, -0.1)\n",
    "h = np.array([shift1[0] - shift0[0], shift1[1] - shift0[1]])\n",
    "\n",
    "cached_mesh = False\n",
    "if cached_mesh:\n",
    "    mesh0 = fd.Mesh(shape + str(3) + \"_0.msh\")\n",
    "    mesh1 = fd.Mesh(shape + str(3) + \"_1.msh\")\n",
    "else:\n",
    "    mesh0 = generate_mesh(a0, a1, b0, b1, shape, N, level=3, R0=R0, R1=R1, shift=shift0, suffix=\"_0\")\n",
    "    mesh1 = generate_mesh(a0, a1, b0, b1, shape, N, level=3, R0=R0, R1=R1, shift=shift1, suffix=\"_1\")\n",
    "k = 5\n",
    "d = [1., 0.]\n",
    "d_np = np.array(d)\n",
    "d = fd.Constant(d)\n",
    "\n",
    "x = fd.SpatialCoordinate(mesh0)\n",
    "kdx = k * fd.dot(d, x)\n",
    "inc = fd.as_vector((fd.cos(kdx), fd.sin(kdx)))\n",
    "g = -inc\n",
    "u0 = solve(mesh0, k, a0, a1, b0, b1, g, annular=annular)\n",
    "plot_field(u0, a0, a1, b0, b1)\n",
    "plot_far_field_vol(k, u0, R0, R1)\n",
    "\n",
    "x = fd.SpatialCoordinate(mesh1)\n",
    "kdx = k * fd.dot(d, x)\n",
    "inc = fd.as_vector((fd.cos(kdx), fd.sin(kdx)))\n",
    "g = -inc\n",
    "u1 = solve(mesh1, k, a0, a1, b0, b1, g, annular=annular)\n",
    "plot_field(u1, a0, a1, b0, b1)\n",
    "plot_far_field_vol(k, u1, R0, R1)\n",
    "\n",
    "n = 20\n",
    "theta = 2 * np.pi / n * np.arange(n)\n",
    "ratio = []\n",
    "for t in list(theta):\n",
    "    x_hat = fd.Constant((np.cos(t), np.sin(t)))\n",
    "    u_inf0_re, u_inf0_im = far_field_vol(k, u0, x_hat, R0, R1)\n",
    "    u_inf1_re, u_inf1_im = far_field_vol(k, u1, x_hat, R0, R1)\n",
    "    phi = k * h.dot(d_np - np.array([np.cos(t), np.sin(t)]))\n",
    "    \n",
    "    u_inf0_re_ = np.cos(phi) * u_inf0_re - np.sin(phi) * u_inf0_im\n",
    "    u_inf0_im_ = np.cos(phi) * u_inf0_im + np.sin(phi) * u_inf0_re\n",
    "    ratio_re = u_inf0_re_ / u_inf1_re\n",
    "    ratio_im = u_inf0_im_ / u_inf1_im\n",
    "    ratio.append((ratio_re, ratio_im))\n",
    "theta = np.append(theta, 0)\n",
    "ratio = np.array(ratio + [ratio[0]])\n",
    "\n",
    "fig, (ax1, ax2) = plt.subplots(1, 2, subplot_kw={'projection': 'polar'},\n",
    "                               constrained_layout=True)\n",
    "ax1.plot(theta, ratio[:, 0])\n",
    "ax1.set_title(\"Real part\")\n",
    "ax1.set_rlabel_position(90)\n",
    "ax1.grid(True)\n",
    "ax2.plot(theta, ratio[:, 1])\n",
    "ax2.set_title(\"Imaginary part\")\n",
    "ax2.set_rlabel_position(90)\n",
    "ax2.grid(True)\n",
    "fig.suptitle(\"Translation property\")"
   ]
  },
  {
   "attachments": {},
   "cell_type": "markdown",
   "id": "5409da6e",
   "metadata": {},
   "source": [
    "## Kite-shaped obstacle"
   ]
  },
  {
   "cell_type": "code",
   "execution_count": null,
   "id": "3bcc138d",
   "metadata": {},
   "outputs": [],
   "source": [
    "# shape of obstacle\n",
    "shape = \"kite\"\n",
    "# set up PML\n",
    "a0 = b0 = 2.75\n",
    "a1 = b1 = 3.0\n",
    "h0 = (a1 - a0) / N\n",
    "# set up cut-off function for far field\n",
    "R0 = 2.3\n",
    "R1 = 2.7\n",
    "if R0 is not None and R1 is not None:\n",
    "    annular = True\n",
    "else:\n",
    "    annular = False\n",
    "\n",
    "# generate mesh\n",
    "cached_mesh = False\n",
    "if cached_mesh:\n",
    "    mesh = fd.Mesh(shape + str(0) + \".msh\")\n",
    "else:\n",
    "    mesh = generate_mesh(a0, a1, b0, b1, shape, N, R0=R0, R1=R1)"
   ]
  },
  {
   "cell_type": "code",
   "execution_count": null,
   "id": "a8faee49",
   "metadata": {},
   "outputs": [],
   "source": [
    "# visualize mesh\n",
    "plot_mesh(mesh)"
   ]
  },
  {
   "cell_type": "code",
   "execution_count": null,
   "id": "ffea097c",
   "metadata": {},
   "outputs": [],
   "source": [
    "# wavenumber of incident wave\n",
    "k = 5\n",
    "# direction of incident wave\n",
    "d = fd.Constant([1., 0.])\n",
    "\n",
    "# Dirichlet boundary condition for sound-soft obstacle\n",
    "x = fd.SpatialCoordinate(mesh)\n",
    "kdx = k * fd.dot(d, x)\n",
    "inc = fd.as_vector((fd.cos(kdx), fd.sin(kdx)))\n",
    "g = -inc\n",
    "\n",
    "# compute approximate solution\n",
    "uh = solve(mesh, k, a0, a1, b0, b1, g, annular=annular)"
   ]
  },
  {
   "cell_type": "code",
   "execution_count": null,
   "id": "e4580d29",
   "metadata": {},
   "outputs": [],
   "source": [
    "# visualize scattered field\n",
    "plot_field(uh, a0, a1, b0, b1)"
   ]
  },
  {
   "cell_type": "code",
   "execution_count": null,
   "id": "13a9a9e1",
   "metadata": {},
   "outputs": [],
   "source": [
    "# visualize total field\n",
    "u = fd.interpolate(uh + inc, uh.function_space())\n",
    "plot_field(u, a0, a1, b0, b1)"
   ]
  },
  {
   "cell_type": "code",
   "execution_count": null,
   "id": "52adc818",
   "metadata": {},
   "outputs": [],
   "source": [
    "# plot far field pattern evaluated by boundary-based formula\n",
    "# use boundary of obstacle\n",
    "plot_far_field(k, uh)"
   ]
  },
  {
   "cell_type": "code",
   "execution_count": null,
   "id": "55e99921",
   "metadata": {},
   "outputs": [],
   "source": [
    "# plot far field pattern evaluated by boundary-based formula\n",
    "# use arbitrary closed surface enclosing obstacle\n",
    "plot_far_field(k, uh, boundary=4)"
   ]
  },
  {
   "cell_type": "code",
   "execution_count": null,
   "id": "09b1f606",
   "metadata": {},
   "outputs": [],
   "source": [
    "# plot far field pattern evaluated by volume-based formula\n",
    "plot_far_field_vol(k, uh, R0, R1)"
   ]
  },
  {
   "cell_type": "code",
   "execution_count": null,
   "id": "6b74db1d",
   "metadata": {},
   "outputs": [],
   "source": [
    "# verify reciprocity relation [1, Theorem 3.23]\n",
    "cached_mesh = False\n",
    "if cached_mesh:\n",
    "    mesh = fd.Mesh(shape + str(3) + \".msh\")\n",
    "else:\n",
    "    mesh = generate_mesh(a0, a1, b0, b1, shape, N, level=3, R0=R0, R1=R1)\n",
    "k = 5\n",
    "d = fd.Constant([1., 0.])\n",
    "x = fd.SpatialCoordinate(mesh)\n",
    "kdx = k * fd.dot(d, x)\n",
    "inc = fd.as_vector((fd.cos(kdx), fd.sin(kdx)))\n",
    "g = -inc\n",
    "u1 = solve(mesh, k, a0, a1, b0, b1, g, annular=annular)\n",
    "\n",
    "n = 20\n",
    "theta = 2 * np.pi / n * np.arange(n)\n",
    "ratio = []\n",
    "for t in list(theta):\n",
    "    x_hat = fd.Constant((np.cos(t), np.sin(t)))\n",
    "    u_inf1_re, u_inf1_im = far_field_vol(k, u1, x_hat, R0, R1)\n",
    "    \n",
    "    x = fd.SpatialCoordinate(mesh)\n",
    "    kdx = k * fd.dot(-x_hat, x)\n",
    "    inc = fd.as_vector((fd.cos(kdx), fd.sin(kdx)))\n",
    "    g = -inc\n",
    "    u2 = solve(mesh, k, a0, a1, b0, b1, g, annular=annular)\n",
    "    u_inf2_re, u_inf2_im = far_field_vol(k, u2, -d, R0, R1)\n",
    "\n",
    "    ratio.append((u_inf2_re / u_inf1_re, u_inf2_im / u_inf1_im))\n",
    "theta = np.append(theta, 0)\n",
    "ratio = np.array(ratio + [ratio[0]])\n",
    "\n",
    "fig, (ax1, ax2) = plt.subplots(1, 2, subplot_kw={'projection': 'polar'},\n",
    "                               constrained_layout=True)\n",
    "ax1.plot(theta, ratio[:, 0])\n",
    "ax1.set_title(\"Real part\")\n",
    "ax1.set_rlabel_position(90)\n",
    "ax1.grid(True)\n",
    "ax2.plot(theta, ratio[:, 1])\n",
    "ax2.set_title(\"Imaginary part\")\n",
    "ax2.set_rlabel_position(90)\n",
    "ax2.grid(True)\n",
    "fig.suptitle(\"Reciprocity relation\")"
   ]
  },
  {
   "cell_type": "code",
   "execution_count": null,
   "id": "86b26d67",
   "metadata": {},
   "outputs": [],
   "source": [
    "# set up convergence test for far field\n",
    "max_level = 4\n",
    "levels = np.arange(max_level)\n",
    "hs = h0 / 2**levels"
   ]
  },
  {
   "cell_type": "code",
   "execution_count": null,
   "id": "ed0d45ca",
   "metadata": {},
   "outputs": [],
   "source": [
    "# create mesh hierarchy by uniform refinement\n",
    "mesh_hierarchy = []\n",
    "if cached_mesh:\n",
    "    for level in levels:\n",
    "        mesh_hierarchy.append(fd.Mesh(shape + str(level) + \".msh\"))\n",
    "else:\n",
    "    for level in levels:\n",
    "        mesh_hierarchy.append(generate_mesh(a0, a1, b0, b1, shape, N, level, R0=R0, R1=R1))"
   ]
  },
  {
   "attachments": {},
   "cell_type": "markdown",
   "id": "22708949",
   "metadata": {},
   "source": [
    "Reference value from [1, Table 3.1]\n",
    "\n",
    "- $k = 1$\n",
    "\n",
    "    $Re\\{u_\\infty(d)\\} = −1.62745750, Im\\{u_\\infty(d)\\} = 0.60222591$\n",
    "\n",
    "    $Re\\{u_\\infty(-d)\\} = 1.39694488, Im\\{u_\\infty(-d)\\} = 0.09499635$\n",
    "\n",
    "- $k = 5$\n",
    "\n",
    "    $Re\\{u_\\infty(d)\\} = -2.47554380, Im\\{u_\\infty(d)\\} = 1.68747937$\n",
    "\n",
    "    $Re\\{u_\\infty(-d)\\} = -0.19945787, Im\\{u_\\infty(-d)\\} = 0.06015893$\n"
   ]
  },
  {
   "cell_type": "code",
   "execution_count": null,
   "id": "c9d335bc",
   "metadata": {},
   "outputs": [],
   "source": [
    "k = 1\n",
    "\n",
    "# set reference value\n",
    "if k == 1:\n",
    "    u_inf_ref = np.array([-1.62745750, 0.60222591, 1.39694488, 0.09499635])\n",
    "if k == 5:\n",
    "    u_inf_ref = np.array([-2.47554380, 1.68747937, -0.19945787, 0.06015893])"
   ]
  },
  {
   "cell_type": "code",
   "execution_count": null,
   "id": "33600ef0",
   "metadata": {},
   "outputs": [],
   "source": [
    "# test of boundary-based formula\n",
    "# use boundary of obstacle\n",
    "errors = []\n",
    "for level in levels:\n",
    "    m = mesh_hierarchy[level]\n",
    "    x = fd.SpatialCoordinate(m)\n",
    "    kdx = k * fd.dot(d, x)\n",
    "    inc = fd.as_vector((fd.cos(kdx), fd.sin(kdx)))\n",
    "    g = -inc\n",
    "    \n",
    "    uh = solve(m, k, a0, a1, b0, b1, g, annular=annular)\n",
    "\n",
    "    u_inf = np.empty(4)\n",
    "    u_inf[0], u_inf[1] = far_field(k, uh, d)\n",
    "    u_inf[2], u_inf[3] = far_field(k, uh, -d)\n",
    "    rel_err = np.abs((u_inf - u_inf_ref) / u_inf_ref)\n",
    "    print(f\"refinement level {level}, relative error {rel_err}\")\n",
    "    errors.append(rel_err)\n",
    "errors = np.array(errors)\n",
    "plt.loglog(hs, errors[:, 0], \"-o\",\n",
    "           label=r\"Relative error of $Re\\{u_\\infty(d)\\}$\")\n",
    "plt.loglog(hs, errors[:, 1], \"-o\",\n",
    "           label=r\"Relative error of $Im\\{u_\\infty(d)\\}$\")\n",
    "plt.loglog(hs, errors[:, 2], \"-o\",\n",
    "           label=r\"Relative error of $Re\\{u_\\infty(-d)\\}$\")\n",
    "plt.loglog(hs, errors[:, 3], \"-o\",\n",
    "           label=r\"Relative error of $Im\\{u_\\infty(-d)\\}$\")\n",
    "\n",
    "plt.loglog(hs, hs, \"k\", label=r\"Order $h$\")\n",
    "plt.legend()\n",
    "plt.xlabel(r\"Mesh width $h$\")\n",
    "plt.ylabel(\"Relative error\")\n",
    "plt.title(\"Mesh-boundary-based formula\")\n",
    "plt.tight_layout()"
   ]
  },
  {
   "cell_type": "code",
   "execution_count": null,
   "id": "8ee801a7",
   "metadata": {},
   "outputs": [],
   "source": [
    "# test of boundary-based formula\n",
    "# use arbitrary closed surface enclosing obstacle\n",
    "errors = []\n",
    "for level in levels:\n",
    "    m = mesh_hierarchy[level]\n",
    "    x = fd.SpatialCoordinate(m)\n",
    "    kdx = k * fd.dot(d, x)\n",
    "    inc = fd.as_vector((fd.cos(kdx), fd.sin(kdx)))\n",
    "    g = -inc\n",
    "    \n",
    "    uh = solve(m, k, a0, a1, b0, b1, g, annular=annular)\n",
    "\n",
    "    u_inf = np.empty(4)\n",
    "    u_inf[0], u_inf[1] = far_field(k, uh, d, boundary=4)\n",
    "    u_inf[2], u_inf[3] = far_field(k, uh, -d, boundary=4)\n",
    "    rel_err = np.abs((u_inf - u_inf_ref) / u_inf_ref)\n",
    "    print(f\"refinement level {level}, relative error {rel_err}\")\n",
    "    errors.append(rel_err)\n",
    "errors = np.array(errors)\n",
    "plt.loglog(hs, errors[:, 0], \"-o\",\n",
    "           label=r\"Relative error of $Re\\{u_\\infty(d)\\}$\")\n",
    "plt.loglog(hs, errors[:, 1], \"-o\",\n",
    "           label=r\"Relative error of $Im\\{u_\\infty(d)\\}$\")\n",
    "plt.loglog(hs, errors[:, 2], \"-o\",\n",
    "           label=r\"Relative error of $Re\\{u_\\infty(-d)\\}$\")\n",
    "plt.loglog(hs, errors[:, 3], \"-o\",\n",
    "           label=r\"Relative error of $Im\\{u_\\infty(-d)\\}$\")\n",
    "\n",
    "plt.loglog(hs, hs, \"k\", label=r\"Order $h$\")\n",
    "plt.legend()\n",
    "plt.xlabel(r\"Mesh width $h$\")\n",
    "plt.ylabel(\"Relative error\")\n",
    "plt.title(\"Arbitrary-boundary-based formula\")\n",
    "plt.tight_layout()"
   ]
  },
  {
   "cell_type": "code",
   "execution_count": null,
   "id": "f9946dba",
   "metadata": {},
   "outputs": [],
   "source": [
    "# test of volume-based formula\n",
    "errors = []\n",
    "for level in levels:\n",
    "    m = mesh_hierarchy[level]\n",
    "    x = fd.SpatialCoordinate(m)\n",
    "    kdx = k * fd.dot(d, x)\n",
    "    inc = fd.as_vector((fd.cos(kdx), fd.sin(kdx)))\n",
    "    g = -inc\n",
    "    \n",
    "    uh = solve(m, k, a0, a1, b0, b1, g, annular=annular)\n",
    "\n",
    "    u_inf = np.empty(4)\n",
    "    u_inf[0], u_inf[1] = far_field_vol(k, uh, d, R0, R1)\n",
    "    u_inf[2], u_inf[3] = far_field_vol(k, uh, -d, R0, R1)\n",
    "    rel_err = np.abs((u_inf - u_inf_ref) / u_inf_ref)\n",
    "    print(f\"refinement level {level}, relative error {rel_err}\")\n",
    "    errors.append(rel_err)\n",
    "errors = np.array(errors)\n",
    "plt.loglog(hs, errors[:, 0], \"-o\",\n",
    "           label=r\"Relative error of $Re\\{u_\\infty(d)\\}$\")\n",
    "plt.loglog(hs, errors[:, 1], \"-o\",\n",
    "           label=r\"Relative error of $Im\\{u_\\infty(d)\\}$\")\n",
    "plt.loglog(hs, errors[:, 2], \"-o\",\n",
    "           label=r\"Relative error of $Re\\{u_\\infty(-d)\\}$\")\n",
    "plt.loglog(hs, errors[:, 3], \"-o\",\n",
    "           label=r\"Relative error of $Im\\{u_\\infty(-d)\\}$\")\n",
    "\n",
    "plt.loglog(hs, hs**2, \"k\", label=r\"Order $h^2$\")\n",
    "plt.legend()\n",
    "plt.xlabel(r\"Mesh width $h$\")\n",
    "plt.ylabel(\"Relative error\")\n",
    "plt.title(\"Volume-based formula\")\n",
    "plt.tight_layout()"
   ]
  },
  {
   "attachments": {},
   "cell_type": "markdown",
   "id": "f5bed74d",
   "metadata": {},
   "source": [
    "## Reference\n",
    "\n",
    "[1] Colton, D., Kress, R., 2019. Inverse Acoustic and Electromagnetic Scattering Theory, Applied Mathematical Sciences. Springer International Publishing, Cham. https://doi.org/10.1007/978-3-030-30351-8"
   ]
  }
 ],
 "metadata": {
  "kernelspec": {
   "display_name": "Python (firedrake)",
   "language": "python",
   "name": "firedrake"
  },
  "language_info": {
   "codemirror_mode": {
    "name": "ipython",
    "version": 3
   },
   "file_extension": ".py",
   "mimetype": "text/x-python",
   "name": "python",
   "nbconvert_exporter": "python",
   "pygments_lexer": "ipython3",
   "version": "3.8.10"
  }
 },
 "nbformat": 4,
 "nbformat_minor": 5
}
