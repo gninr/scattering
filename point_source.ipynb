{
 "cells": [
  {
   "attachments": {},
   "cell_type": "markdown",
   "id": "04e22184",
   "metadata": {},
   "source": [
    "# Validation of PML method"
   ]
  },
  {
   "cell_type": "code",
   "execution_count": null,
   "id": "ce11a843",
   "metadata": {},
   "outputs": [],
   "source": [
    "%env OMP_NUM_THREADS=1\n",
    "import firedrake as fd\n",
    "import numpy as np\n",
    "import matplotlib.pyplot as plt\n",
    "from scattering import solve, compute_error, plot_mesh, plot_field, plot_far_field\n",
    "from mesh import generate_mesh"
   ]
  },
  {
   "cell_type": "code",
   "execution_count": null,
   "id": "949a0ccd",
   "metadata": {},
   "outputs": [],
   "source": [
    "# sound speed\n",
    "c = 340\n",
    "# point source inside obstacle\n",
    "x0 = fd.Constant([0.5, 0])\n",
    "# number of cells across PML\n",
    "N = 2"
   ]
  },
  {
   "cell_type": "code",
   "execution_count": null,
   "id": "8183dde8",
   "metadata": {},
   "outputs": [],
   "source": [
    "# fundamental solution\n",
    "def exact_solution(mesh, k, x0):\n",
    "    x = fd.SpatialCoordinate(mesh)\n",
    "    z = k * fd.sqrt(fd.inner(x - x0, x - x0))\n",
    "    u_re = -fd.bessel_Y(0, z) / 4\n",
    "    u_im = fd.bessel_J(0, z) / 4\n",
    "    return fd.as_vector([u_re, u_im])\n",
    "\n",
    "# normal derivative of fundamental solution\n",
    "def neumann_bc(mesh, k, x0):\n",
    "    x = fd.SpatialCoordinate(mesh)\n",
    "    n = fd.FacetNormal(mesh)\n",
    "    z = k * fd.sqrt(fd.inner(x - x0, x - x0))\n",
    "    dzdn = k / fd.sqrt(fd.inner(x - x0, x - x0)) * fd.dot(x - x0, n)\n",
    "    dudn_re = fd.bessel_Y(1, z) / 4 * dzdn\n",
    "    dudn_im = -fd.bessel_J(1, z) / 4 * dzdn\n",
    "    return fd.as_vector([dudn_re, dudn_im])"
   ]
  },
  {
   "cell_type": "code",
   "execution_count": null,
   "id": "ed2816bb",
   "metadata": {},
   "outputs": [],
   "source": [
    "# shape of obstacle\n",
    "# options: \"circle\", \"kite\", \"square\"\n",
    "shape = \"circle\"\n",
    "# set up PML\n",
    "a0 = b0 = 2.0\n",
    "a1 = b1 = 2.25\n",
    "h0 = (a1 - a0) / N\n",
    "cached_mesh = False\n",
    "\n",
    "# generate mesh\n",
    "if cached_mesh:\n",
    "    mesh = fd.Mesh(shape + str(0) + \".msh\")\n",
    "else:\n",
    "    mesh = generate_mesh(a0, a1, b0, b1, shape, N)"
   ]
  },
  {
   "cell_type": "code",
   "execution_count": null,
   "id": "53273eda",
   "metadata": {},
   "outputs": [],
   "source": [
    "# visualize mesh\n",
    "plot_mesh(mesh)"
   ]
  },
  {
   "cell_type": "code",
   "execution_count": null,
   "id": "23cdbd47",
   "metadata": {},
   "outputs": [],
   "source": [
    "# angular frequency of source\n",
    "omega = 250\n",
    "# wavenumber of source\n",
    "k = omega / c\n",
    "# compute exact solution as Dirichlet boundary condition\n",
    "u = exact_solution(mesh, k, x0)\n",
    "# compute approximate solution\n",
    "uh = solve(mesh, k, a0, a1, b0, b1, u)"
   ]
  },
  {
   "cell_type": "code",
   "execution_count": null,
   "id": "49d245bc",
   "metadata": {},
   "outputs": [],
   "source": [
    "# visualize exact solution\n",
    "print(\"Exact solution:\")\n",
    "W = fd.VectorFunctionSpace(mesh, \"CG\", 1)\n",
    "plot_field(fd.interpolate(u, W), a0, a1, b0, b1)"
   ]
  },
  {
   "cell_type": "code",
   "execution_count": null,
   "id": "bc298559",
   "metadata": {},
   "outputs": [],
   "source": [
    "# visualize numerical solution\n",
    "print(\"Numerical solution:\")\n",
    "plot_field(uh, a0, a1, b0, b1)"
   ]
  },
  {
   "cell_type": "code",
   "execution_count": null,
   "id": "05306d0f",
   "metadata": {},
   "outputs": [],
   "source": [
    "# evaluate relative error in L2-norm\n",
    "rel_err = compute_error(u, uh, quad_deg=4)\n",
    "print(f\"Relative error {rel_err:.2%}\")"
   ]
  },
  {
   "cell_type": "code",
   "execution_count": null,
   "id": "46fec792",
   "metadata": {},
   "outputs": [],
   "source": [
    "# plot far field pattern evaluated by boundary-based formula \n",
    "plot_far_field(k, uh)"
   ]
  },
  {
   "cell_type": "code",
   "execution_count": null,
   "id": "915abf31",
   "metadata": {},
   "outputs": [],
   "source": [
    "# set up convergence test for scattered field\n",
    "max_level = 4\n",
    "levels = np.arange(max_level)\n",
    "hs = h0 / 2**levels\n",
    "omegas = [250, 750, 1250]"
   ]
  },
  {
   "cell_type": "code",
   "execution_count": null,
   "id": "0b7432bf",
   "metadata": {},
   "outputs": [],
   "source": [
    "# create mesh hierarchy by uniform refinement\n",
    "mesh_hierarchy = []\n",
    "if cached_mesh:\n",
    "    for level in levels:\n",
    "        mesh_hierarchy.append(fd.Mesh(shape + str(level) + \".msh\"))\n",
    "else:\n",
    "    for level in levels:\n",
    "        mesh_hierarchy.append(generate_mesh(a0, a1, b0, b1, shape, N, level))"
   ]
  },
  {
   "cell_type": "code",
   "execution_count": null,
   "id": "2b988c27",
   "metadata": {},
   "outputs": [],
   "source": [
    "# test of Dirichlet problem and L2-norm error\n",
    "neumann = False\n",
    "for omega in omegas:\n",
    "    print(f\"angular freqency = {omega}\")\n",
    "    k = omega / c\n",
    "    errors = []\n",
    "    for level in levels:\n",
    "        m = mesh_hierarchy[level]\n",
    "        u = exact_solution(m, k, x0)\n",
    "        uh = solve(m, k, a0, a1, b0, b1, u, neumann)\n",
    "        rel_err = compute_error(u, uh, quad_deg=4)\n",
    "        print(f\"refinement level {level}, relative error {rel_err:.2%}\")\n",
    "        errors.append(rel_err)\n",
    "    k = np.polyfit(np.log(hs), np.log(errors), 1)[0]\n",
    "    print(f\"convergence rate = {k:.2}\")\n",
    "    plt.loglog(hs, errors, \"-o\",\n",
    "               label=r\"Relative error of $\\omega=$\"+f\"{omega}\")\n",
    "    print(\"----------------------------------------\")\n",
    "\n",
    "plt.loglog(hs, hs**2, \"k\", label=r\"Order $h^2$\")\n",
    "plt.legend()\n",
    "plt.xlabel(r\"Mesh width $h$\")\n",
    "plt.ylabel(\"Relative error\")\n",
    "plt.title(\"Dirichlet boundary condition\")\n",
    "plt.tight_layout()"
   ]
  },
  {
   "cell_type": "code",
   "execution_count": null,
   "id": "aaec14b9",
   "metadata": {},
   "outputs": [],
   "source": [
    "# test of Dirichlet problem and H1-norm error\n",
    "neumann = False\n",
    "for omega in omegas:\n",
    "    print(f\"angular freqency = {omega}\")\n",
    "    k = omega / c\n",
    "    errors = []\n",
    "    for level in levels:\n",
    "        m = mesh_hierarchy[level]\n",
    "        u = exact_solution(m, k, x0)\n",
    "        uh = solve(m, k, a0, a1, b0, b1, u, neumann)\n",
    "        rel_err = compute_error(u, uh, norm=\"h1\", quad_deg=4)\n",
    "        print(f\"refinement level {level}, relative error {rel_err:.2%}\")\n",
    "        errors.append(rel_err)\n",
    "    k = np.polyfit(np.log(hs), np.log(errors), 1)[0]\n",
    "    print(f\"convergence rate = {k:.2}\")\n",
    "    plt.loglog(hs, errors, \"-o\",\n",
    "               label=r\"Relative error of $\\omega=$\"+f\"{omega}\")\n",
    "    print(\"----------------------------------------\")\n",
    "\n",
    "plt.loglog(hs, hs, \"k\", label=r\"Order $h$\")\n",
    "plt.legend()\n",
    "plt.xlabel(r\"Mesh width $h$\")\n",
    "plt.ylabel(\"Relative error\")\n",
    "plt.title(\"Dirichlet boundary condition\")\n",
    "plt.tight_layout()"
   ]
  },
  {
   "cell_type": "code",
   "execution_count": null,
   "id": "3f4238aa",
   "metadata": {
    "scrolled": false
   },
   "outputs": [],
   "source": [
    "# test of Neumann problem and L2-norm error\n",
    "# see [1, Figure 13]\n",
    "neumann = True\n",
    "for omega in omegas:\n",
    "    print(f\"angular freqency = {omega}\")\n",
    "    k = omega / c\n",
    "    errors = []\n",
    "    for level in levels:\n",
    "        m = mesh_hierarchy[level]\n",
    "        g = neumann_bc(m, k, x0)\n",
    "        uh = solve(m, k, a0, a1, b0, b1, g, neumann, quad_deg=5)\n",
    "        u = exact_solution(m, k, x0)\n",
    "        rel_err = compute_error(u, uh, quad_deg=4)\n",
    "        print(f\"refinement level {level}, relative error {rel_err:.2%}\")\n",
    "        errors.append(rel_err)\n",
    "    k = np.polyfit(np.log(hs), np.log(errors), 1)[0]\n",
    "    print(f\"convergence rate = {k:.2}\")\n",
    "    plt.loglog(hs, errors, \"-o\",\n",
    "               label=r\"Relative error of $\\omega=$\"+f\"{omega}\")\n",
    "    print(\"----------------------------------------\")\n",
    "\n",
    "plt.loglog(hs, hs**2, \"k\", label=r\"Order $h^2$\")\n",
    "plt.legend()\n",
    "plt.xlabel(r\"Mesh width $h$\")\n",
    "plt.ylabel(\"Relative error\")\n",
    "plt.title(\"Neumann boundary condition\")\n",
    "plt.tight_layout()"
   ]
  },
  {
   "cell_type": "code",
   "execution_count": null,
   "id": "fad89815",
   "metadata": {
    "scrolled": false
   },
   "outputs": [],
   "source": [
    "# test of Neumann problem and H1-norm error\n",
    "neumann = True\n",
    "for omega in omegas:\n",
    "    print(f\"angular freqency = {omega}\")\n",
    "    k = omega / c\n",
    "    errors = []\n",
    "    for level in levels:\n",
    "        m = mesh_hierarchy[level]\n",
    "        g = neumann_bc(m, k, x0)\n",
    "        uh = solve(m, k, a0, a1, b0, b1, g, neumann, quad_deg=5)\n",
    "        u = exact_solution(m, k, x0)\n",
    "        rel_err = compute_error(u, uh, norm=\"h1\", quad_deg=4)\n",
    "        print(f\"refinement level {level}, relative error {rel_err:.2%}\")\n",
    "        errors.append(rel_err)\n",
    "    k = np.polyfit(np.log(hs), np.log(errors), 1)[0]\n",
    "    print(f\"convergence rate = {k:.2}\")\n",
    "    plt.loglog(hs, errors, \"-o\",\n",
    "               label=r\"Relative error of $\\omega=$\"+f\"{omega}\")\n",
    "    print(\"----------------------------------------\")\n",
    "\n",
    "plt.loglog(hs, hs, \"k\", label=r\"Order $h$\")\n",
    "plt.legend()\n",
    "plt.xlabel(r\"Mesh width $h$\")\n",
    "plt.ylabel(\"Relative error\")\n",
    "plt.title(\"Neumann boundary condition\")\n",
    "plt.tight_layout()"
   ]
  },
  {
   "attachments": {},
   "cell_type": "markdown",
   "id": "012c5fd1",
   "metadata": {},
   "source": [
    "## Reference\n",
    "\n",
    "[1] Bermúdez, A., Hervella-Nieto, L., Prieto, A., Rodríguez, R., 2007. An optimal perfectly matched layer with unbounded absorbing function for time-harmonic acoustic scattering problems. Journal of Computational Physics 223, 469–488. https://doi.org/10.1016/j.jcp.2006.09.018"
   ]
  }
 ],
 "metadata": {
  "kernelspec": {
   "display_name": "Python (firedrake)",
   "language": "python",
   "name": "firedrake"
  },
  "language_info": {
   "codemirror_mode": {
    "name": "ipython",
    "version": 3
   },
   "file_extension": ".py",
   "mimetype": "text/x-python",
   "name": "python",
   "nbconvert_exporter": "python",
   "pygments_lexer": "ipython3",
   "version": "3.8.10"
  }
 },
 "nbformat": 4,
 "nbformat_minor": 5
}
